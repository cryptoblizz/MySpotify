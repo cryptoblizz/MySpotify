{
 "cells": [
  {
   "cell_type": "code",
   "execution_count": 2,
   "metadata": {
    "scrolled": true
   },
   "outputs": [
    {
     "name": "stdout",
     "output_type": "stream",
     "text": [
      "Marigold - Periphery\n",
      "Flight - Devin Townsend\n",
      "Azadi - Dub Sharma\n",
      "take care - EDEN\n",
      "wings - EDEN\n",
      "icarus - EDEN\n",
      "lost//found - EDEN\n",
      "gold - EDEN\n",
      "forever//over - EDEN\n",
      "float - EDEN\n",
      "wonder - EDEN\n",
      "love; not wrong (brave) - EDEN\n",
      "falling in reverse - EDEN\n",
      "Paranoid - Lauv\n",
      "Machine Gun - Live at the Fillmore East - Jimi Hendrix\n",
      "Tune Kaha - Prateek Kuhad\n",
      "Gustaakh - The Local Train\n",
      "Dilnawaz - The Local Train\n",
      "Khudi - The Local Train\n",
      "Aaftaab - The Local Train\n"
     ]
    }
   ],
   "source": [
    "import spotipy\n",
    "import spotipy.util as util\n",
    "from datetime import datetime\n",
    "from spotipy.oauth2 import SpotifyClientCredentials\n",
    "import pandas as pd\n",
    "import matplotlib.pyplot as plt\n",
    "username = \"rckprnv\"\n",
    "scope = \"user-library-read\"\n",
    "#export SPOTIPY_CLIENT_ID ='3aa12f8e691c4df69ea5cf90a8d14b83'\n",
    "#export SPOTIPY_CLIENT_SECRET ='380a5fc6c96e4fdcaf568425b919a00e'\n",
    "#export SPOTIPY_REDIRECT_URI ='http://localhost:8888'\n",
    "#client_credentials_manager = SpotifyClientCredentials(client_id='3aa12f8e691c4df69ea5cf90a8d14b83', client_secret='380a5fc6c96e4fdcaf568425b919a00e')\n",
    "token = util.prompt_for_user_token(username,scope,client_id='35018e55ab1d418f85142ed667b3f069',client_secret='5150cff246404d1795f3d4c2c559e902',redirect_uri='http://localhost:8888/callback/')\n",
    "\n",
    "\n",
    "#playlists = sp.user_playlists('rckprnv')\n",
    "if token:\n",
    "    sp = spotipy.Spotify(auth=token)\n",
    "    results = sp.current_user_saved_tracks()\n",
    "    for item in results['items']:\n",
    "        track = item['track']\n",
    "        print (track['name'] + ' - ' + track['artists'][0]['name'])\n",
    "else:\n",
    "    print (\"Can't get token for\"), username"
   ]
  },
  {
   "cell_type": "code",
   "execution_count": 3,
   "metadata": {},
   "outputs": [
    {
     "name": "stdout",
     "output_type": "stream",
     "text": [
      "0     2019\n",
      "1     2019\n",
      "2     2019\n",
      "3     2019\n",
      "4     2019\n",
      "5     2019\n",
      "6     2019\n",
      "7     2019\n",
      "8     2019\n",
      "9     2019\n",
      "10    2019\n",
      "11    2019\n",
      "12    2019\n",
      "13    2019\n",
      "14    2019\n",
      "15    2019\n",
      "16    2019\n",
      "17    2019\n",
      "18    2019\n",
      "19    2019\n",
      "0     2019\n",
      "1     2019\n",
      "2     2019\n",
      "3     2019\n",
      "4     2019\n",
      "5     2019\n",
      "6     2019\n",
      "7     2019\n",
      "8     2019\n",
      "9     2019\n",
      "      ... \n",
      "1     2015\n",
      "2     2015\n",
      "3     2015\n",
      "4     2015\n",
      "5     2015\n",
      "6     2015\n",
      "7     2015\n",
      "8     2015\n",
      "9     2015\n",
      "10    2015\n",
      "11    2015\n",
      "12    2015\n",
      "13    2015\n",
      "14    2015\n",
      "15    2015\n",
      "16    2015\n",
      "17    2015\n",
      "18    2015\n",
      "19    2015\n",
      "0     2015\n",
      "1     2015\n",
      "2     2015\n",
      "3     2015\n",
      "4     2015\n",
      "5     2015\n",
      "6     2015\n",
      "7     2015\n",
      "8     2015\n",
      "9     2015\n",
      "10    2015\n",
      "Name: added_at_year, Length: 531, dtype: int64\n"
     ]
    }
   ],
   "source": [
    "df_saved_tracks = pd.DataFrame()\n",
    "track_list = ''\n",
    "added_ts_list = []\n",
    "artist_list = []\n",
    "title_list = []\n",
    "added_ts_list_year = []\n",
    "\n",
    "more_songs = True\n",
    "offset_index = 0\n",
    "\n",
    "while more_songs:\n",
    "    songs = sp.current_user_saved_tracks(offset=offset_index)\n",
    "\n",
    "    for song in songs['items']:\n",
    "        #join track ids to a string for audio_features function\n",
    "        track_list += song['track']['id'] +','\n",
    "\n",
    "        #get the time when the song was added\n",
    "        added_ts_list.append(datetime.strptime(song['added_at'], '%Y-%m-%dT%H:%M:%SZ'))\n",
    "        added_ts_list_year.append(datetime.strptime(song['added_at'], '%Y-%m-%dT%H:%M:%SZ').year)\n",
    "\n",
    "        #get the title of the song\n",
    "        title_list.append(song['track']['name'])\n",
    "\n",
    "        #get all the artists in the song\n",
    "        artists = song['track']['artists']\n",
    "        artists_name = ''\n",
    "        for artist in artists:\n",
    "            artists_name += artist['name']  + ','\n",
    "        artist_list.append(artists_name[:-1])\n",
    "\n",
    "    #get the track features and append into a dataframe\n",
    "    track_features = sp.audio_features(track_list[:-1])\n",
    "    df_temp = pd.DataFrame(track_features)\n",
    "    df_saved_tracks = df_saved_tracks.append(df_temp)\n",
    "    track_list = ''\n",
    "\n",
    "    if songs['next'] == None:\n",
    "        # no more songs in playlist\n",
    "        more_songs = False\n",
    "    else:\n",
    "        # get the next n songs\n",
    "        offset_index += songs['limit']\n",
    "\n",
    "#include timestamp added, title and artists of a song\n",
    "df_saved_tracks['added_at'] = added_ts_list\n",
    "df_saved_tracks['song_title'] = title_list\n",
    "df_saved_tracks['artists'] = artist_list\n",
    "df_saved_tracks['added_at_year'] = added_ts_list_year\n",
    "print(df_saved_tracks['added_at_year'])\n"
   ]
  },
  {
   "cell_type": "code",
   "execution_count": 18,
   "metadata": {},
   "outputs": [
    {
     "name": "stdout",
     "output_type": "stream",
     "text": [
      "               acousticness  danceability    duration_ms    energy  \\\n",
      "added_at_year                                                        \n",
      "2015               0.251214      0.580222  237603.044444  0.655689   \n",
      "2016               0.023867      0.576100  198702.700000  0.874600   \n",
      "2017               0.066403      0.510457  284482.753086  0.717642   \n",
      "2018               0.188562      0.471996  281672.168142  0.671823   \n",
      "2019               0.415821      0.502189  274606.266272  0.525858   \n",
      "\n",
      "               instrumentalness       key  liveness  loudness      mode  \\\n",
      "added_at_year                                                             \n",
      "2015                   0.050362  4.555556  0.209673 -5.714289  0.577778   \n",
      "2016                   0.001305  4.800000  0.328500 -4.221500  0.500000   \n",
      "2017                   0.181128  5.061728  0.193612 -6.874444  0.481481   \n",
      "2018                   0.183656  5.154867  0.187066 -7.646668  0.579646   \n",
      "2019                   0.130502  4.970414  0.182622 -9.131686  0.680473   \n",
      "\n",
      "               speechiness       tempo  time_signature   valence  \n",
      "added_at_year                                                     \n",
      "2015              0.075089  110.608378        3.933333  0.499504  \n",
      "2016              0.096670  126.126400        4.000000  0.399710  \n",
      "2017              0.058516  119.318173        3.938272  0.368614  \n",
      "2018              0.057259  120.031000        3.845133  0.342683  \n",
      "2019              0.059434  117.077669        3.857988  0.354395  \n"
     ]
    },
    {
     "data": {
      "image/png": "[encoded data removed]",
      "text/plain": [
       "<Figure size 432x288 with 1 Axes>"
      ]
     },
     "metadata": {
      "needs_background": "light"
     },
     "output_type": "display_data"
    },
    {
     "data": {
      "image/png": "[encoded data removed]",
      "text/plain": [
       "<Figure size 432x288 with 1 Axes>"
      ]
     },
     "metadata": {
      "needs_background": "light"
     },
     "output_type": "display_data"
    },
    {
     "data": {
      "image/png": "[encoded data removed]",
      "text/plain": [
       "<Figure size 432x288 with 1 Axes>"
      ]
     },
     "metadata": {
      "needs_background": "light"
     },
     "output_type": "display_data"
    },
    {
     "data": {
      "image/png": "[encoded data removed]",
      "text/plain": [
       "<Figure size 432x288 with 1 Axes>"
      ]
     },
     "metadata": {
      "needs_background": "light"
     },
     "output_type": "display_data"
    }
   ],
   "source": [
    "df_mean =  df_saved_tracks.groupby(['added_at_year']).mean()\n",
    "print(df_mean)\n",
    "\n",
    "df_mean.plot(kind = 'bar',y='acousticness')\n",
    "plt.show()\n",
    "\n",
    "df_mean.plot(kind = 'bar',y='danceability')\n",
    "plt.show()\n",
    "\n",
    "df_mean.plot(kind = 'bar',y='instrumentalness')\n",
    "plt.show()\n",
    "\n",
    "df_mean.plot(kind = 'bar',y='speechiness')\n",
    "plt.show()\n",
    "\n",
    "\n",
    "\n",
    "#df_mean_frame = pd.DataFrame({'added_at_year' : df_saved_tracks['added_at_year'], 'acousticness': df_mean['acousticness']})\n",
    "#print(df_mean_frame)\n",
    "# = pd.DataFrame(df_saved_tracks.groupby(['added_at_year']).mean())\n",
    "#plt.plot(df_mean_frame['added_at_year'],df_mean_frame['acouticness'] )\n",
    "\n"
   ]
  },
  {
   "cell_type": "code",
   "execution_count": null,
   "metadata": {},
   "outputs": [],
   "source": []
  },
  {
   "cell_type": "code",
   "execution_count": null,
   "metadata": {},
   "outputs": [],
   "source": []
  }
 ],
 "metadata": {
  "kernelspec": {
   "display_name": "Python 3",
   "language": "python",
   "name": "python3"
  },
  "language_info": {
   "codemirror_mode": {
    "name": "ipython",
    "version": 3
   },
   "file_extension": ".py",
   "mimetype": "text/x-python",
   "name": "python",
   "nbconvert_exporter": "python",
   "pygments_lexer": "ipython3",
   "version": "3.6.7"
  }
 },
 "nbformat": 4,
 "nbformat_minor": 2
}

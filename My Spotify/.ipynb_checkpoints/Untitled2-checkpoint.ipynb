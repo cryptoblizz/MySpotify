{
 "cells": [
  {
   "cell_type": "code",
   "execution_count": null,
   "metadata": {},
   "outputs": [],
   "source": [
    "import requests \n",
    "#SPOTIPY_CLIENT_ID ='3aa12f8e691c4df69ea5cf90a8d14b83'\n",
    "    # export SPOTIPY_CLIENT_SECRET ='380a5fc6c96e4fdcaf568425b919a00e'\n",
    "    # export SPOTIPY_REDIRECT_URI ='http://localhost:8888'\n",
    "  \n",
    "# api-endpoint \n",
    "URL = \"https://accounts.spotify.com/authorize/' \n",
    "  \n",
    "# location given here \n",
    "#location = \"delhi technological university\"\n",
    "  \n",
    "# defining a params dict for the parameters to be sent to the API \n",
    "PARAMS = {'client_id':'3aa12f8e691c4df69ea5cf90a8d14b83', 'scope': 'user-library-read', 'redirect_uri':'http://localhost:8888/callback/'} } \n",
    "  \n",
    "# sending get request and saving the response as response object \n",
    "r = requests.get(url = URL, params = PARAMS) \n",
    "\n",
    "\n",
    "  \n",
    "# extracting data in json format \n",
    "data = r.json() \n",
    "\n",
    "URL = 'https://accounts.spotify.com/api/token'\n",
    "\n",
    "data1 = {'grant_type':\"authorization_code\", \n",
    "        'code':data['code'], \n",
    "        'redirect_uri':'http://localhost:8888/callback/',\n",
    "        'client_id': '3aa12f8e691c4df69ea5cf90a8d14b83',\n",
    "        'client_secret': '380a5fc6c96e4fdcaf568425b919a00e'\n",
    "        } \n",
    "\n",
    "r = requests.post(url = URL, data = data1)\n",
    "\n",
    "data2 = r.json()\n"
   ]
  }
 ],
 "metadata": {
  "kernelspec": {
   "display_name": "Python 3",
   "language": "python",
   "name": "python3"
  },
  "language_info": {
   "codemirror_mode": {
    "name": "ipython",
    "version": 3
   },
   "file_extension": ".py",
   "mimetype": "text/x-python",
   "name": "python",
   "nbconvert_exporter": "python",
   "pygments_lexer": "ipython3",
   "version": "3.6.7"
  }
 },
 "nbformat": 4,
 "nbformat_minor": 2
}
